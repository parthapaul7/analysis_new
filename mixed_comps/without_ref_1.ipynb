{
 "cells": [
  {
   "cell_type": "code",
   "execution_count": 146,
   "id": "b72844d7",
   "metadata": {},
   "outputs": [],
   "source": [
    "import os\n",
    "import numpy as np\n",
    "import pandas as pd\n",
    "\n",
    "import pymatgen as pg\n",
    "import os\n"
   ]
  },
  {
   "cell_type": "code",
   "execution_count": 147,
   "id": "50f4867d",
   "metadata": {},
   "outputs": [],
   "source": [
    "import numpy as np\n",
    "import pandas as pd\n",
    "from scipy.interpolate import interp1d\n",
    "import matplotlib.pyplot as plt\n",
    "\n",
    "def densify_data(df, num_points=200, extrapolate=True):\n",
    "    # Sort by cell_length to ensure monotonicity\n",
    "    df = df.sort_values('cell_length').reset_index(drop=True)\n",
    "\n",
    "    x = df['cell_length'].values\n",
    "    y = df['E-dispersion'].values\n",
    "\n",
    "    # Define interpolation function\n",
    "    kind = 'cubic' if len(df) >= 4 else 'linear'\n",
    "    if extrapolate:\n",
    "        f_interp = interp1d(x, y, kind=kind, fill_value='extrapolate')\n",
    "    else:\n",
    "        f_interp = interp1d(x, y, kind=kind)\n",
    "\n",
    "    # Generate new x values for denser sampling\n",
    "    x_dense = np.linspace(x.min() - 0.05, x.max() + 0.05, num_points)\n",
    "    y_dense = f_interp(x_dense)\n",
    "\n",
    "    df_dense = pd.DataFrame({'cell_length': x_dense, 'E-dispersion': y_dense})\n",
    "    return df_dense\n",
    "\n",
    "def local_min(df):\n",
    "    df['dy'] = df['E-dispersion'].diff()\n",
    "    df['sign_dy'] = np.sign(df['dy'])\n",
    "    df['sign_change'] = df['sign_dy'].diff()\n",
    "    local_min_indices = df.index[(df['sign_change'] > 0)]\n",
    "\n",
    "    if len(local_min_indices) == 0:\n",
    "        print('No local min found')\n",
    "        return None\n",
    "    return df.loc[local_min_indices, ['cell_length', 'E-dispersion']].reset_index(drop=True)\n",
    "\n",
    "def local_max(df):\n",
    "    df['dy'] = df['E-dispersion'].diff()\n",
    "    df['sign_dy'] = np.sign(df['dy'])\n",
    "    df['sign_change'] = df['sign_dy'].diff()\n",
    "    local_max_indices = df.index[(df['sign_change'] < 0)]\n",
    "\n",
    "    if len(local_max_indices) == 0:\n",
    "        print('No local max found')\n",
    "        return None\n",
    "    return df.loc[local_max_indices, ['cell_length', 'E-dispersion']].reset_index(drop=True)\n",
    "\n",
    "# Example usage:\n",
    "# original_df = pd.read_csv(\"your_data.csv\")\n",
    "# densified_df = densify_data(original_df)\n",
    "# mins = local_min(densified_df)\n",
    "# maxs = local_max(densified_df)\n",
    "\n",
    "# Optional: plot to verify\n",
    "# plt.plot(densified_df['cell_length'], densified_df['E-dispersion'], label='Interpolated')\n",
    "# plt.scatter(mins['cell_length'], mins['E-dispersion'], color='green', label='Minima')\n",
    "# plt.scatter(maxs['cell_length'], maxs['E-dispersion'], color='r_]()\n"
   ]
  },
  {
   "cell_type": "code",
   "execution_count": 148,
   "id": "e4ed1061",
   "metadata": {},
   "outputs": [],
   "source": [
    "def finding_diff(df):\n",
    "    abs_max = 0\n",
    "    max_val = max(local_max(df)['E-dispersion'])\n",
    "    min_val = min(local_min(df)['E-dispersion'])\n",
    "\n",
    "    \n",
    "    if np.isnan(abs_max):\n",
    "        abs_max = 0\n",
    "        \n",
    "    # print('a',abs_max)\n",
    "    # print('b',max_val)\n",
    "    # print('c',min_val)\n",
    "\n",
    "    if max_val is None or min_val is None:\n",
    "        return 0\n",
    "\n",
    "    # diff = (abs_max + max_val)/2 - min_val\n",
    "    diff = 0-min_val\n",
    "\n",
    "    return diff"
   ]
  },
  {
   "cell_type": "code",
   "execution_count": 149,
   "id": "07bdc856",
   "metadata": {},
   "outputs": [],
   "source": [
    "li_d3s = os.listdir('../d3_mbd_features_data/d3')"
   ]
  },
  {
   "cell_type": "code",
   "execution_count": 150,
   "id": "baacda7c",
   "metadata": {},
   "outputs": [
    {
     "name": "stdout",
     "output_type": "stream",
     "text": [
      "Processing Mn.csv\n",
      "Reading ../d3_mbd_features_data/d3/Mn.csv\n",
      "Processing Al.csv\n",
      "Reading ../d3_mbd_features_data/d3/Al.csv\n",
      "Processing LiSnS2.csv\n",
      "Reading ../d3_mbd_features_data/d3/LiSnS2.csv\n",
      "Processing CsCl.csv\n",
      "Reading ../d3_mbd_features_data/d3/CsCl.csv\n",
      "Processing Li.csv\n",
      "Reading ../d3_mbd_features_data/d3/Li.csv\n",
      "Processing Na.csv\n",
      "Reading ../d3_mbd_features_data/d3/Na.csv\n",
      "Processing C.csv\n",
      "Reading ../d3_mbd_features_data/d3/C.csv\n",
      "No local max found\n"
     ]
    },
    {
     "ename": "TypeError",
     "evalue": "'NoneType' object is not subscriptable",
     "output_type": "error",
     "traceback": [
      "\u001b[31m---------------------------------------------------------------------------\u001b[39m",
      "\u001b[31mTypeError\u001b[39m                                 Traceback (most recent call last)",
      "\u001b[36mCell\u001b[39m\u001b[36m \u001b[39m\u001b[32mIn[150]\u001b[39m\u001b[32m, line 18\u001b[39m\n\u001b[32m     15\u001b[39m df = pd.read_csv(file)\n\u001b[32m     16\u001b[39m \u001b[38;5;28mprint\u001b[39m(\u001b[33mf\u001b[39m\u001b[33m\"\u001b[39m\u001b[33mReading \u001b[39m\u001b[38;5;132;01m{\u001b[39;00mfile\u001b[38;5;132;01m}\u001b[39;00m\u001b[33m\"\u001b[39m)\n\u001b[32m---> \u001b[39m\u001b[32m18\u001b[39m diff_energy = \u001b[43mfinding_diff\u001b[49m\u001b[43m(\u001b[49m\u001b[43mdf\u001b[49m\u001b[43m)\u001b[49m\n\u001b[32m     19\u001b[39m delta_e.append({\u001b[33mf\u001b[39m\u001b[33m'\u001b[39m\u001b[38;5;132;01m{\u001b[39;00mitems.strip(\u001b[33m'\u001b[39m\u001b[33m.csv\u001b[39m\u001b[33m'\u001b[39m)\u001b[38;5;132;01m}\u001b[39;00m\u001b[33m'\u001b[39m: diff_energy})\n",
      "\u001b[36mCell\u001b[39m\u001b[36m \u001b[39m\u001b[32mIn[148]\u001b[39m\u001b[32m, line 3\u001b[39m, in \u001b[36mfinding_diff\u001b[39m\u001b[34m(df)\u001b[39m\n\u001b[32m      1\u001b[39m \u001b[38;5;28;01mdef\u001b[39;00m\u001b[38;5;250m \u001b[39m\u001b[34mfinding_diff\u001b[39m(df):\n\u001b[32m      2\u001b[39m     abs_max = \u001b[32m0\u001b[39m\n\u001b[32m----> \u001b[39m\u001b[32m3\u001b[39m     max_val = \u001b[38;5;28mmax\u001b[39m(\u001b[43mlocal_max\u001b[49m\u001b[43m(\u001b[49m\u001b[43mdf\u001b[49m\u001b[43m)\u001b[49m\u001b[43m[\u001b[49m\u001b[33;43m'\u001b[39;49m\u001b[33;43mE-dispersion\u001b[39;49m\u001b[33;43m'\u001b[39;49m\u001b[43m]\u001b[49m)\n\u001b[32m      4\u001b[39m     min_val = \u001b[38;5;28mmin\u001b[39m(local_min(df)[\u001b[33m'\u001b[39m\u001b[33mE-dispersion\u001b[39m\u001b[33m'\u001b[39m])\n\u001b[32m      7\u001b[39m     \u001b[38;5;28;01mif\u001b[39;00m np.isnan(abs_max):\n",
      "\u001b[31mTypeError\u001b[39m: 'NoneType' object is not subscriptable"
     ]
    }
   ],
   "source": [
    "delta_e = []\n",
    "cnt = 0\n",
    "for items in li_d3s:\n",
    "    print(f\"Processing {items}\")\n",
    "    cnt+=1\n",
    "    #get the path of each folder\n",
    "    path = '../d3_mbd_features_data/d3'\n",
    "    # print(items)\n",
    "    \n",
    "    #ignore .DS_Store\n",
    "    if items == \".DS_Store\":\n",
    "        continue\n",
    "    file = os.path.join(path, f'{items}')\n",
    "    struct_file = os.path.join(path, 'POSCAR')\n",
    "    df = pd.read_csv(file)\n",
    "    print(f\"Reading {file}\")\n",
    "\n",
    "    diff_energy = finding_diff(df)\n",
    "    delta_e.append({f'{items.strip('.csv')}': diff_energy})"
   ]
  },
  {
   "cell_type": "code",
   "execution_count": null,
   "id": "6b87bc0b",
   "metadata": {},
   "outputs": [
    {
     "data": {
      "text/plain": [
       "[{'Mn': 1.53863},\n",
       " {'Al': 0.53453},\n",
       " {'LiSnS2': 0.56525},\n",
       " {'CsCl': 0.37495},\n",
       " {'Li': 0.80435},\n",
       " {'Na': 0.73342},\n",
       " {'Cu': 1.62452},\n",
       " {'SnS2': 0.19947},\n",
       " {'BaCl2': 0.56305},\n",
       " {'Ca': 1.07361},\n",
       " {'NaH': 2.38713},\n",
       " {'LiF': 2.2905},\n",
       " {'KH': 2.0085},\n",
       " {'LiCoO2': 3.61935},\n",
       " {'ZnS': 1.19819},\n",
       " {'CuI': 0.12667},\n",
       " {'LiH': 2.62983},\n",
       " {'CoO2': 0.29704},\n",
       " {'RbH': 1.6504},\n",
       " {'Mg': 0.59208},\n",
       " {'Ni': 2.32928},\n",
       " {'LiCl': 1.225},\n",
       " {'CsH': 1.63052}]"
      ]
     },
     "execution_count": 143,
     "metadata": {},
     "output_type": "execute_result"
    }
   ],
   "source": [
    "delta_e"
   ]
  },
  {
   "cell_type": "code",
   "execution_count": null,
   "id": "7ae27e01",
   "metadata": {},
   "outputs": [],
   "source": [
    "import csv\n",
    "with open('without_ref.csv', mode='w', newline='') as file:\n",
    "    writer = csv.writer(file)\n",
    "    writer.writerow(['Compound', 'Value'])\n",
    "\n",
    "    for item in delta_e:\n",
    "        for compound, value in item.items():\n",
    "            writer.writerow([compound, value])"
   ]
  },
  {
   "cell_type": "code",
   "execution_count": null,
   "id": "2f9380a0",
   "metadata": {},
   "outputs": [
    {
     "data": {
      "image/png": "[encoded data removed]",
      "text/plain": [
       "<Figure size 1000x600 with 1 Axes>"
      ]
     },
     "metadata": {},
     "output_type": "display_data"
    }
   ],
   "source": [
    "import matplotlib.pyplot as plt\n",
    "\n",
    "df1 = pd.read_csv('without_ref.csv')\n",
    "df2 = pd.read_csv('with_ref.csv')\n",
    "\n",
    "plt.figure(figsize=(10, 6))\n",
    "# plt.plot(df1['Compound'], df1['Value'], label='Without Reference', alpha=0.7)\n",
    "plt.bar(df2['Compound'], df2['Value'], label='With Reference', alpha=   0.7, color='darkorange')\n",
    "plt.scatter(df1['Compound'], df1['Value'], label='Without Reference', alpha=0.7)\n",
    "\n",
    "# rotate x-axis labels for better readability\n",
    "plt.xticks(rotation=45, ha='right')\n",
    "\n",
    "plt.xlabel('Compound')\n",
    "plt.ylabel('Value')\n",
    "plt.show()\n"
   ]
  }
 ],
 "metadata": {
  "kernelspec": {
   "display_name": "stress",
   "language": "python",
   "name": "python3"
  },
  "language_info": {
   "codemirror_mode": {
    "name": "ipython",
    "version": 3
   },
   "file_extension": ".py",
   "mimetype": "text/x-python",
   "name": "python",
   "nbconvert_exporter": "python",
   "pygments_lexer": "ipython3",
   "version": "3.12.2"
  }
 },
 "nbformat": 4,
 "nbformat_minor": 5
}
