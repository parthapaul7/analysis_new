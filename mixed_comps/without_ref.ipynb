{
 "cells": [
  {
   "cell_type": "code",
   "execution_count": 713,
   "id": "b72844d7",
   "metadata": {},
   "outputs": [],
   "source": [
    "import os\n",
    "import numpy as np\n",
    "import pandas as pd\n",
    "\n",
    "import pymatgen as pg\n",
    "import os\n"
   ]
  },
  {
   "cell_type": "code",
   "execution_count": 714,
   "id": "50f4867d",
   "metadata": {},
   "outputs": [],
   "source": [
    "\n",
    "def local_min(df):\n",
    "\n",
    "    df['dy'] = df['E-dispersion'].diff()\n",
    "\n",
    "    df['sign_dy'] = np.sign(df['dy'])\n",
    "    df['sign_change'] = df['sign_dy'].diff()\n",
    "\n",
    "    # Indices of local maxima: derivative goes from negative (-1) to positive (+1)\n",
    "    local_min_indices = df.index[(df['sign_change'] > 0)]\n",
    "\n",
    "    if len(local_min_indices) == 0:\n",
    "        print('No local max found')\n",
    "        new_df = pd.DataFrame(columns=['cell_length', 'E-dispersion'])\n",
    "        # put values 0 , 0 in the dataframe\n",
    "        new_df.loc[0] = [0, 0]\n",
    "        print(min(new_df['E-dispersion']))\n",
    "        return new_df\n",
    "    local_mins = df.loc[local_min_indices, ['cell_length', 'E-dispersion']].reset_index(drop=True)\n",
    "\n",
    "    return local_mins\n",
    "\n",
    "def local_max(df):\n",
    "    df['dy'] = df['E-dispersion'].diff()\n",
    "\n",
    "    df['sign_dy'] = np.sign(df['dy'])\n",
    "    df['sign_change'] = df['sign_dy'].diff()\n",
    "    \n",
    "    # Indices of local maxima: derivative goes from negative (-1) to positive (+1)\n",
    "    local_min_indices = df.index[(df['sign_change'] < 0)]\n",
    "\n",
    "    if len(local_min_indices) == 0:\n",
    "        print('No local max found')\n",
    "        new_df = pd.DataFrame(columns=['cell_length', 'E-dispersion'])\n",
    "        # put values 0 , 0 in the dataframe\n",
    "        new_df.loc[0] = [0, 0]\n",
    "        print(min(new_df['E-dispersion']))\n",
    "        return new_df\n",
    "\n",
    "    local_max = df.loc[local_min_indices, ['cell_length', 'E-dispersion']].reset_index(drop=True)\n",
    "    return local_max"
   ]
  },
  {
   "cell_type": "code",
   "execution_count": 715,
   "id": "e4ed1061",
   "metadata": {},
   "outputs": [],
   "source": [
    "def finding_diff(df):\n",
    "    abs_max = df['E-dispersion'].iloc[-1]\n",
    "    max_val = max(local_max(df)['E-dispersion'])\n",
    "    min_val = min(local_min(df)['E-dispersion'])\n",
    "\n",
    "    \n",
    "    if np.isnan(abs_max):\n",
    "        abs_max = 0\n",
    "        \n",
    "    # print('a',abs_max)\n",
    "    # print('b',max_val)\n",
    "    # print('c',min_val)\n",
    "\n",
    "    if max_val == 0 or min_val == 0:\n",
    "        return 0\n",
    "\n",
    "    diff = (abs_max + max_val)/2 - min_val\n",
    "\n",
    "    return diff"
   ]
  },
  {
   "cell_type": "code",
   "execution_count": 716,
   "id": "07bdc856",
   "metadata": {},
   "outputs": [],
   "source": [
    "li_d3s = os.listdir('../d3_mbd_features_data/d3')"
   ]
  },
  {
   "cell_type": "code",
   "execution_count": 717,
   "id": "baacda7c",
   "metadata": {},
   "outputs": [
    {
     "name": "stdout",
     "output_type": "stream",
     "text": [
      "Processing Mn.csv\n",
      "Reading ../d3_mbd_features_data/d3/Mn.csv\n",
      "Processing Al.csv\n",
      "Reading ../d3_mbd_features_data/d3/Al.csv\n",
      "Processing LiSnS2.csv\n",
      "Reading ../d3_mbd_features_data/d3/LiSnS2.csv\n",
      "Processing CsCl.csv\n",
      "Reading ../d3_mbd_features_data/d3/CsCl.csv\n",
      "Processing Li.csv\n",
      "Reading ../d3_mbd_features_data/d3/Li.csv\n",
      "Processing Na.csv\n",
      "Reading ../d3_mbd_features_data/d3/Na.csv\n",
      "Processing C.csv\n",
      "Reading ../d3_mbd_features_data/d3/C.csv\n",
      "No local max found\n",
      "0\n",
      "No local max found\n",
      "0\n",
      "Processing Cu.csv\n",
      "Reading ../d3_mbd_features_data/d3/Cu.csv\n",
      "Processing SnS2.csv\n",
      "Reading ../d3_mbd_features_data/d3/SnS2.csv\n",
      "Processing BaCl2.csv\n",
      "Reading ../d3_mbd_features_data/d3/BaCl2.csv\n",
      "Processing Ca.csv\n",
      "Reading ../d3_mbd_features_data/d3/Ca.csv\n",
      "Processing NaH.csv\n",
      "Reading ../d3_mbd_features_data/d3/NaH.csv\n",
      "Processing LiF.csv\n",
      "Reading ../d3_mbd_features_data/d3/LiF.csv\n",
      "Processing KH.csv\n",
      "Reading ../d3_mbd_features_data/d3/KH.csv\n",
      "Processing LiCoO2.csv\n",
      "Reading ../d3_mbd_features_data/d3/LiCoO2.csv\n",
      "Processing ZnS.csv\n",
      "Reading ../d3_mbd_features_data/d3/ZnS.csv\n",
      "Processing CuI.csv\n",
      "Reading ../d3_mbd_features_data/d3/CuI.csv\n",
      "Processing LiH.csv\n",
      "Reading ../d3_mbd_features_data/d3/LiH.csv\n",
      "Processing CoO2.csv\n",
      "Reading ../d3_mbd_features_data/d3/CoO2.csv\n",
      "Processing RbH.csv\n",
      "Reading ../d3_mbd_features_data/d3/RbH.csv\n",
      "Processing Mg.csv\n",
      "Reading ../d3_mbd_features_data/d3/Mg.csv\n",
      "Processing Ni.csv\n",
      "Reading ../d3_mbd_features_data/d3/Ni.csv\n",
      "Processing LiCl.csv\n",
      "Reading ../d3_mbd_features_data/d3/LiCl.csv\n",
      "Processing CsH.csv\n",
      "Reading ../d3_mbd_features_data/d3/CsH.csv\n"
     ]
    }
   ],
   "source": [
    "delta_e = []\n",
    "cnt = 0\n",
    "for items in li_d3s:\n",
    "    print(f\"Processing {items}\")\n",
    "    cnt+=1\n",
    "    #get the path of each folder\n",
    "    path = '../d3_mbd_features_data/d3'\n",
    "    # print(items)\n",
    "    \n",
    "    #ignore .DS_Store\n",
    "    if items == \".DS_Store\":\n",
    "        continue\n",
    "    file = os.path.join(path, f'{items}')\n",
    "    struct_file = os.path.join(path, 'POSCAR')\n",
    "    df = pd.read_csv(file)\n",
    "    print(f\"Reading {file}\")\n",
    "\n",
    "    diff_energy = finding_diff(df)\n",
    "    delta_e.append({f'{items.strip('.csv')}': diff_energy})"
   ]
  },
  {
   "cell_type": "code",
   "execution_count": 718,
   "id": "6b87bc0b",
   "metadata": {},
   "outputs": [
    {
     "data": {
      "text/plain": [
       "[{'Mn': 0.8319949999999999},\n",
       " {'Al': 0.24184499999999998},\n",
       " {'LiSnS2': 0.28300000000000003},\n",
       " {'CsCl': 0.28082},\n",
       " {'Li': 0.68477},\n",
       " {'Na': 0.5197999999999999},\n",
       " {'C': 0},\n",
       " {'Cu': 0.75623},\n",
       " {'SnS2': 0.01528500000000002},\n",
       " {'BaCl2': 0.30561000000000005},\n",
       " {'Ca': 0.71688},\n",
       " {'NaH': 1.490305},\n",
       " {'LiF': 1.3838450000000002},\n",
       " {'KH': 1.2564950000000001},\n",
       " {'LiCoO2': 1.5770049999999998},\n",
       " {'ZnS': 0.3072450000000001},\n",
       " {'CuI': 0.060145000000000004},\n",
       " {'LiH': 2.146945},\n",
       " {'CoO2': 0.10687500000000003},\n",
       " {'RbH': 0.7611600000000001},\n",
       " {'Mg': 0.25236000000000003},\n",
       " {'Ni': 1.3296099999999997},\n",
       " {'LiCl': 0.5037100000000001},\n",
       " {'CsH': 0.871385}]"
      ]
     },
     "execution_count": 718,
     "metadata": {},
     "output_type": "execute_result"
    }
   ],
   "source": [
    "delta_e"
   ]
  },
  {
   "cell_type": "code",
   "execution_count": 719,
   "id": "7ae27e01",
   "metadata": {},
   "outputs": [],
   "source": [
    "import csv\n",
    "with open('without_ref.csv', mode='w', newline='') as file:\n",
    "    writer = csv.writer(file)\n",
    "    writer.writerow(['Compound', 'Value'])\n",
    "\n",
    "    for item in delta_e:\n",
    "        for compound, value in item.items():\n",
    "            writer.writerow([compound, value])"
   ]
  },
  {
   "cell_type": "code",
   "execution_count": 720,
   "id": "2f9380a0",
   "metadata": {},
   "outputs": [
    {
     "data": {
      "image/png": "[encoded data removed]",
      "text/plain": [
       "<Figure size 1000x600 with 1 Axes>"
      ]
     },
     "metadata": {},
     "output_type": "display_data"
    }
   ],
   "source": [
    "import matplotlib.pyplot as plt\n",
    "\n",
    "df1 = pd.read_csv('without_ref.csv')\n",
    "df2 = pd.read_csv('with_ref.csv')\n",
    "\n",
    "\n",
    "# removing compounds  LiCl and LiCoO2\n",
    "df1 = df1[~df1['Compound'].isin(['LiCl', 'LiCoO2','C'])]\n",
    "df2 = df2[~df2['Compound'].isin(['LiCl', 'LiCoO2','C'])]\n",
    "\n",
    "plt.figure(figsize=(10, 6))\n",
    "# plt.plot(df1['Compound'], df1['Value'], label='Without Reference', alpha=0.7)\n",
    "plt.bar(df2['Compound'], df2['Value'], label='With Reference', alpha=   0.7, color='darkorange')\n",
    "plt.scatter(df1['Compound'], df1['Value'], label='Without Reference', alpha=0.7)\n",
    "\n",
    "plt.legend()\n",
    "# rotate x-axis labels for better readability\n",
    "plt.xticks(rotation=45, ha='right')\n",
    "\n",
    "plt.xlabel('Compound')\n",
    "plt.ylabel('Delta E_dis per fu (eV)')\n",
    "plt.show()\n"
   ]
  }
 ],
 "metadata": {
  "kernelspec": {
   "display_name": "stress",
   "language": "python",
   "name": "python3"
  },
  "language_info": {
   "codemirror_mode": {
    "name": "ipython",
    "version": 3
   },
   "file_extension": ".py",
   "mimetype": "text/x-python",
   "name": "python",
   "nbconvert_exporter": "python",
   "pygments_lexer": "ipython3",
   "version": "3.12.2"
  }
 },
 "nbformat": 4,
 "nbformat_minor": 5
}
