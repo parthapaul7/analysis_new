{
 "cells": [
  {
   "cell_type": "code",
   "execution_count": 1,
   "id": "86362bf4",
   "metadata": {},
   "outputs": [],
   "source": [
    "import pandas as pd\n",
    "import numpy as np"
   ]
  },
  {
   "cell_type": "code",
   "execution_count": 2,
   "id": "5c3089ce",
   "metadata": {},
   "outputs": [
    {
     "data": {
      "text/plain": [
       "0      0.566474\n",
       "1      0.000000\n",
       "2      1.102493\n",
       "3      1.230899\n",
       "4      0.022682\n",
       "         ...   \n",
       "395    0.899482\n",
       "396    0.529100\n",
       "397    0.118808\n",
       "398    0.061496\n",
       "399    0.788562\n",
       "Name: Result, Length: 400, dtype: float64"
      ]
     },
     "execution_count": 2,
     "metadata": {},
     "output_type": "execute_result"
    }
   ],
   "source": [
    "cu = pd.read_csv('Cu_compounds.csv')\n",
    "cu['Result']"
   ]
  },
  {
   "cell_type": "code",
   "execution_count": 3,
   "id": "40a4e83d",
   "metadata": {},
   "outputs": [
    {
     "data": {
      "text/plain": [
       "2.510497737556561"
      ]
     },
     "execution_count": 3,
     "metadata": {},
     "output_type": "execute_result"
    }
   ],
   "source": [
    "filtered = cu[cu['Result'] < 0.5]\n",
    "filtered['Electronegativity'].mean()\n",
    "\n",
    "# cu['Electronegativity'].mean()"
   ]
  }
 ],
 "metadata": {
  "kernelspec": {
   "display_name": "stress",
   "language": "python",
   "name": "python3"
  },
  "language_info": {
   "codemirror_mode": {
    "name": "ipython",
    "version": 3
   },
   "file_extension": ".py",
   "mimetype": "text/x-python",
   "name": "python",
   "nbconvert_exporter": "python",
   "pygments_lexer": "ipython3",
   "version": "3.12.2"
  }
 },
 "nbformat": 4,
 "nbformat_minor": 5
}
