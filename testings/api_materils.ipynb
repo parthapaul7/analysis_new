{
 "cells": [
  {
   "cell_type": "code",
   "execution_count": null,
   "id": "44a11777",
   "metadata": {},
   "outputs": [
    {
     "ename": "TypeError",
     "evalue": "'NoneType' object is not callable",
     "output_type": "error",
     "traceback": [
      "\u001b[31m---------------------------------------------------------------------------\u001b[39m",
      "\u001b[31mTypeError\u001b[39m                                 Traceback (most recent call last)",
      "\u001b[36mCell\u001b[39m\u001b[36m \u001b[39m\u001b[32mIn[2]\u001b[39m\u001b[32m, line 17\u001b[39m\n\u001b[32m     11\u001b[39m query = {\n\u001b[32m     12\u001b[39m     \u001b[33m\"\u001b[39m\u001b[33melements\u001b[39m\u001b[33m\"\u001b[39m: {\u001b[33m\"\u001b[39m\u001b[33m$in\u001b[39m\u001b[33m\"\u001b[39m: [\u001b[33m\"\u001b[39m\u001b[33mLi\u001b[39m\u001b[33m\"\u001b[39m]},  \u001b[38;5;66;03m# Must contain Li\u001b[39;00m\n\u001b[32m     13\u001b[39m     \u001b[33m\"\u001b[39m\u001b[33mnelements\u001b[39m\u001b[33m\"\u001b[39m: \u001b[32m2\u001b[39m                \u001b[38;5;66;03m# Binary compounds only\u001b[39;00m\n\u001b[32m     14\u001b[39m }\n\u001b[32m     16\u001b[39m \u001b[38;5;66;03m# Get relevant properties (including structure)\u001b[39;00m\n\u001b[32m---> \u001b[39m\u001b[32m17\u001b[39m entries = \u001b[43mmpr\u001b[49m\u001b[43m.\u001b[49m\u001b[43mquery\u001b[49m\u001b[43m(\u001b[49m\u001b[43mcriteria\u001b[49m\u001b[43m=\u001b[49m\u001b[43mquery\u001b[49m\u001b[43m,\u001b[49m\u001b[43m \u001b[49m\u001b[43mproperties\u001b[49m\u001b[43m=\u001b[49m\u001b[43m[\u001b[49m\u001b[33;43m\"\u001b[39;49m\u001b[33;43mmaterial_id\u001b[39;49m\u001b[33;43m\"\u001b[39;49m\u001b[43m,\u001b[49m\u001b[43m \u001b[49m\u001b[33;43m\"\u001b[39;49m\u001b[33;43mpretty_formula\u001b[39;49m\u001b[33;43m\"\u001b[39;49m\u001b[43m,\u001b[49m\u001b[43m \u001b[49m\u001b[33;43m\"\u001b[39;49m\u001b[33;43mstructure\u001b[39;49m\u001b[33;43m\"\u001b[39;49m\u001b[43m]\u001b[49m\u001b[43m)\u001b[49m\n\u001b[32m     19\u001b[39m \u001b[38;5;28mprint\u001b[39m(\u001b[33mf\u001b[39m\u001b[33m\"\u001b[39m\u001b[33mFound \u001b[39m\u001b[38;5;132;01m{\u001b[39;00m\u001b[38;5;28mlen\u001b[39m(entries)\u001b[38;5;132;01m}\u001b[39;00m\u001b[33m binary structures containing Li.\u001b[39m\u001b[33m\"\u001b[39m)\n\u001b[32m     21\u001b[39m \u001b[38;5;66;03m# Save structures to CIF files\u001b[39;00m\n",
      "\u001b[31mTypeError\u001b[39m: 'NoneType' object is not callable"
     ]
    }
   ],
   "source": [
    "from pymatgen.ext.matproj import MPRester\n",
    "from pymatgen.core.composition import Composition\n",
    "\n",
    "# Replace with your actual Materials Project API key\n",
    "API_KEY = \"9WYZoO7227EoLBrwEoScPPZFH2g1QHCd\"\n",
    "\n",
    "# Connect to Materials Project\n",
    "mpr = MPRester(API_KEY)\n",
    "\n",
    "# Example: Find all binary compounds containing Li (wildcard search)\n",
    "query = {\n",
    "    \"elements\": {\"$in\": [\"Li\"]},  # Must contain Li\n",
    "    \"nelements\": 2                # Binary compounds only\n",
    "}\n",
    "\n",
    "# Get relevant properties (including structure)\n",
    "entries = mpr.query(criteria=query, properties=[\"material_id\", \"pretty_formula\", \"structure\"])\n",
    "\n",
    "print(f\"Found {len(entries)} binary structures containing Li.\")\n",
    "\n",
    "# Save structures to CIF files\n",
    "for entry in entries:\n",
    "    mid = entry[\"material_id\"]\n",
    "    formula = entry[\"pretty_formula\"]\n",
    "    structure = entry[\"structure\"]\n",
    "\n",
    "    filename = f\"{formula}_{mid}.cif\"\n",
    "    # structure.to(filename=filename)\n",
    "    print(f\"Saved: {filename}\")\n"
   ]
  },
  {
   "cell_type": "code",
   "execution_count": 3,
   "id": "b13fb7d6",
   "metadata": {},
   "outputs": [
    {
     "ename": "MPRestError",
     "evalue": "'data'. Content: b'{\"detail\":\"Request contains query parameters which cannot be used: num_elements, fields\"}'",
     "output_type": "error",
     "traceback": [
      "\u001b[31m---------------------------------------------------------------------------\u001b[39m",
      "\u001b[31mKeyError\u001b[39m                                  Traceback (most recent call last)",
      "\u001b[36mFile \u001b[39m\u001b[32m/opt/miniconda3/envs/stress/lib/python3.12/site-packages/pymatgen/ext/matproj.py:131\u001b[39m, in \u001b[36m_MPResterBasic.request\u001b[39m\u001b[34m(self, sub_url, payload, method, mp_decode)\u001b[39m\n\u001b[32m    130\u001b[39m     \u001b[38;5;28;01mraise\u001b[39;00m MPRestError(\u001b[33mf\u001b[39m\u001b[33m\"\u001b[39m\u001b[33mREST query returned with error status code \u001b[39m\u001b[38;5;132;01m{\u001b[39;00mresponse.status_code\u001b[38;5;132;01m}\u001b[39;00m\u001b[33m\"\u001b[39m)\n\u001b[32m--> \u001b[39m\u001b[32m131\u001b[39m all_data.extend(\u001b[43mdata\u001b[49m\u001b[43m[\u001b[49m\u001b[33;43m\"\u001b[39;49m\u001b[33;43mdata\u001b[39;49m\u001b[33;43m\"\u001b[39;49m\u001b[43m]\u001b[49m)\n\u001b[32m    132\u001b[39m \u001b[38;5;28;01mif\u001b[39;00m \u001b[38;5;28mlen\u001b[39m(data[\u001b[33m\"\u001b[39m\u001b[33mdata\u001b[39m\u001b[33m\"\u001b[39m]) < per_page:\n",
      "\u001b[31mKeyError\u001b[39m: 'data'",
      "\nDuring handling of the above exception, another exception occurred:\n",
      "\u001b[31mMPRestError\u001b[39m                               Traceback (most recent call last)",
      "\u001b[36mCell\u001b[39m\u001b[36m \u001b[39m\u001b[32mIn[3]\u001b[39m\u001b[32m, line 8\u001b[39m\n\u001b[32m      4\u001b[39m API_KEY = \u001b[33m\"\u001b[39m\u001b[33m9WYZoO7227EoLBrwEoScPPZFH2g1QHCd\u001b[39m\u001b[33m\"\u001b[39m\n\u001b[32m      6\u001b[39m \u001b[38;5;28;01mwith\u001b[39;00m MPRester(API_KEY) \u001b[38;5;28;01mas\u001b[39;00m mpr:\n\u001b[32m      7\u001b[39m     \u001b[38;5;66;03m# Binary compounds containing Li\u001b[39;00m\n\u001b[32m----> \u001b[39m\u001b[32m8\u001b[39m     entries = \u001b[43mmpr\u001b[49m\u001b[43m.\u001b[49m\u001b[43msummary\u001b[49m\u001b[43m.\u001b[49m\u001b[43msearch\u001b[49m\u001b[43m(\u001b[49m\n\u001b[32m      9\u001b[39m \u001b[43m        \u001b[49m\u001b[43melements\u001b[49m\u001b[43m=\u001b[49m\u001b[43m[\u001b[49m\u001b[33;43m\"\u001b[39;49m\u001b[33;43mLi\u001b[39;49m\u001b[33;43m\"\u001b[39;49m\u001b[43m]\u001b[49m\u001b[43m,\u001b[49m\n\u001b[32m     10\u001b[39m \u001b[43m        \u001b[49m\u001b[43mnum_elements\u001b[49m\u001b[43m=\u001b[49m\u001b[32;43m2\u001b[39;49m\u001b[43m,\u001b[49m\n\u001b[32m     11\u001b[39m \u001b[43m        \u001b[49m\u001b[43mfields\u001b[49m\u001b[43m=\u001b[49m\u001b[43m[\u001b[49m\u001b[33;43m\"\u001b[39;49m\u001b[33;43mmaterial_id\u001b[39;49m\u001b[33;43m\"\u001b[39;49m\u001b[43m,\u001b[49m\u001b[43m \u001b[49m\u001b[33;43m\"\u001b[39;49m\u001b[33;43mformula_pretty\u001b[39;49m\u001b[33;43m\"\u001b[39;49m\u001b[43m,\u001b[49m\u001b[43m \u001b[49m\u001b[33;43m\"\u001b[39;49m\u001b[33;43mstructure\u001b[39;49m\u001b[33;43m\"\u001b[39;49m\u001b[43m]\u001b[49m\n\u001b[32m     12\u001b[39m \u001b[43m    \u001b[49m\u001b[43m)\u001b[49m\n\u001b[32m     14\u001b[39m     \u001b[38;5;28mprint\u001b[39m(\u001b[33mf\u001b[39m\u001b[33m\"\u001b[39m\u001b[33mFound \u001b[39m\u001b[38;5;132;01m{\u001b[39;00m\u001b[38;5;28mlen\u001b[39m(entries)\u001b[38;5;132;01m}\u001b[39;00m\u001b[33m binary compounds containing Li.\u001b[39m\u001b[33m\"\u001b[39m)\n\u001b[32m     16\u001b[39m     \u001b[38;5;66;03m# Save structures as CIF\u001b[39;00m\n",
      "\u001b[36mFile \u001b[39m\u001b[32m/opt/miniconda3/envs/stress/lib/python3.12/site-packages/pymatgen/ext/matproj.py:157\u001b[39m, in \u001b[36m_MPResterBasic.summary_search\u001b[39m\u001b[34m(self, **kwargs)\u001b[39m\n\u001b[32m    155\u001b[39m get = \u001b[33m\"\u001b[39m\u001b[33m&\u001b[39m\u001b[33m\"\u001b[39m.join(params)\n\u001b[32m    156\u001b[39m logger.info(\u001b[33mf\u001b[39m\u001b[33m\"\u001b[39m\u001b[33mquery=\u001b[39m\u001b[38;5;132;01m{\u001b[39;00mget\u001b[38;5;132;01m}\u001b[39;00m\u001b[33m\"\u001b[39m)\n\u001b[32m--> \u001b[39m\u001b[32m157\u001b[39m \u001b[38;5;28;01mreturn\u001b[39;00m \u001b[38;5;28;43mself\u001b[39;49m\u001b[43m.\u001b[49m\u001b[43mrequest\u001b[49m\u001b[43m(\u001b[49m\u001b[33;43mf\u001b[39;49m\u001b[33;43m\"\u001b[39;49m\u001b[33;43mmaterials/summary/?\u001b[39;49m\u001b[38;5;132;43;01m{\u001b[39;49;00m\u001b[43mget\u001b[49m\u001b[38;5;132;43;01m}\u001b[39;49;00m\u001b[33;43m\"\u001b[39;49m\u001b[43m,\u001b[49m\u001b[43m \u001b[49m\u001b[43mpayload\u001b[49m\u001b[43m=\u001b[49m\u001b[43mcriteria\u001b[49m\u001b[43m)\u001b[49m\n",
      "\u001b[36mFile \u001b[39m\u001b[32m/opt/miniconda3/envs/stress/lib/python3.12/site-packages/pymatgen/ext/matproj.py:137\u001b[39m, in \u001b[36m_MPResterBasic.request\u001b[39m\u001b[34m(self, sub_url, payload, method, mp_decode)\u001b[39m\n\u001b[32m    135\u001b[39m     \u001b[38;5;28;01mexcept\u001b[39;00m \u001b[38;5;167;01mException\u001b[39;00m \u001b[38;5;28;01mas\u001b[39;00m ex:\n\u001b[32m    136\u001b[39m         msg = \u001b[33mf\u001b[39m\u001b[33m\"\u001b[39m\u001b[38;5;132;01m{\u001b[39;00mex\u001b[38;5;132;01m}\u001b[39;00m\u001b[33m. Content: \u001b[39m\u001b[38;5;132;01m{\u001b[39;00mresponse.content\u001b[38;5;132;01m}\u001b[39;00m\u001b[33m\"\u001b[39m \u001b[38;5;28;01mif\u001b[39;00m \u001b[38;5;28mhasattr\u001b[39m(response, \u001b[33m\"\u001b[39m\u001b[33mcontent\u001b[39m\u001b[33m\"\u001b[39m) \u001b[38;5;28;01melse\u001b[39;00m \u001b[38;5;28mstr\u001b[39m(ex)\n\u001b[32m--> \u001b[39m\u001b[32m137\u001b[39m         \u001b[38;5;28;01mraise\u001b[39;00m MPRestError(msg)\n\u001b[32m    138\u001b[39m \u001b[38;5;28;01mreturn\u001b[39;00m all_data\n",
      "\u001b[31mMPRestError\u001b[39m: 'data'. Content: b'{\"detail\":\"Request contains query parameters which cannot be used: num_elements, fields\"}'"
     ]
    }
   ],
   "source": [
    "from pymatgen.ext.matproj import MPRester\n",
    "\n",
    "# Replace with your API key\n",
    "API_KEY = \"9WYZoO7227EoLBrwEoScPPZFH2g1QHCd\"\n",
    "\n",
    "with MPRester(API_KEY) as mpr:\n",
    "    # Binary compounds containing Li\n",
    "    entries = mpr.summary.search(\n",
    "        elements=[\"Li\"],\n",
    "        num_elements=2,\n",
    "        fields=[\"material_id\", \"formula_pretty\", \"structure\"]\n",
    "    )\n",
    "\n",
    "    print(f\"Found {len(entries)} binary compounds containing Li.\")\n",
    "\n",
    "    # Save structures as CIF\n",
    "    for entry in entries:\n",
    "        structure = entry.structure\n",
    "        formula = entry.formula_pretty\n",
    "        material_id = entry.material_id\n",
    "\n",
    "        filename = f\"{formula}_{material_id}.cif\"\n",
    "        # structure.to(filename)\n",
    "        print(f\"Saved: {filename}\")\n"
   ]
  }
 ],
 "metadata": {
  "kernelspec": {
   "display_name": "stress",
   "language": "python",
   "name": "python3"
  },
  "language_info": {
   "codemirror_mode": {
    "name": "ipython",
    "version": 3
   },
   "file_extension": ".py",
   "mimetype": "text/x-python",
   "name": "python",
   "nbconvert_exporter": "python",
   "pygments_lexer": "ipython3",
   "version": "3.12.2"
  }
 },
 "nbformat": 4,
 "nbformat_minor": 5
}
